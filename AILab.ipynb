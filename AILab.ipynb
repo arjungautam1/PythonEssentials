{
  "nbformat": 4,
  "nbformat_minor": 0,
  "metadata": {
    "colab": {
      "name": "AILab.ipynb",
      "provenance": [],
      "authorship_tag": "ABX9TyNxt8Qln0GPe/PXoqWcj7nL",
      "include_colab_link": true
    },
    "kernelspec": {
      "name": "python3",
      "display_name": "Python 3"
    },
    "language_info": {
      "name": "python"
    }
  },
  "cells": [
    {
      "cell_type": "markdown",
      "metadata": {
        "id": "view-in-github",
        "colab_type": "text"
      },
      "source": [
        "<a href=\"https://colab.research.google.com/github/arjungautam1/PythonEssentials/blob/master/AILab.ipynb\" target=\"_parent\"><img src=\"https://colab.research.google.com/assets/colab-badge.svg\" alt=\"Open In Colab\"/></a>"
      ]
    },
    {
      "cell_type": "markdown",
      "source": [
        "Program to print BFS"
      ],
      "metadata": {
        "id": "vfIg8q9z33H0"
      }
    },
    {
      "cell_type": "code",
      "execution_count": null,
      "metadata": {
        "id": "SRSIbHWm65tI",
        "colab": {
          "base_uri": "https://localhost:8080/"
        },
        "outputId": "b84d699f-9579-4877-f3a8-9e489a72b5f5"
      },
      "outputs": [
        {
          "output_type": "stream",
          "name": "stdout",
          "text": [
            "A B C D E F "
          ]
        }
      ],
      "source": [
        "graph={\n",
        "    'A':['B','C'],\n",
        "    'B':['D','E'],\n",
        "    'C':['F'],\n",
        "    'D':[],\n",
        "    'E':['F'],\n",
        "    'F':[]\n",
        "}\n",
        "\n",
        "#List to keep track of visited nodes.\n",
        "visited=[]\n",
        "\n",
        "#Initialize a queue \n",
        "queue=[]\n",
        "\n",
        "def bfs(visites,graph,node):\n",
        "  visited.append(node)\n",
        "  queue.append(node)\n",
        "#while the queue contains elements, it keeps taling out nodes from the queue\n",
        "  while queue:\n",
        "    s=queue.pop(0)\n",
        "    print(s,end=\" \")\n",
        "\n",
        "    for x in graph[s]:\n",
        "      if x not in visited:\n",
        "        visited.append(x)\n",
        "        queue.append(x)\n",
        "\n",
        "#Driver code \n",
        "bfs(visited,graph,'A')\n"
      ]
    },
    {
      "cell_type": "markdown",
      "source": [
        "Program to implement DFS"
      ],
      "metadata": {
        "id": "-DVQLivQ5UGj"
      }
    },
    {
      "cell_type": "code",
      "source": [
        "#using python dictionary \n",
        "\n",
        "graph={\n",
        "    'A':['B','C'],\n",
        "    'B':['D','E'],\n",
        "    'C':['F'],\n",
        "    'D':[],\n",
        "    'E':['F'],\n",
        "    'F':[]\n",
        "}\n",
        "\n",
        "\n",
        "visited = set() # keeps the track of visited nodes \n",
        "\n",
        "\n",
        "#Recursion \n",
        "\n",
        "def dfs(visited, graph, node):\n",
        "  if node not in visited:\n",
        "    print(node,end=\" \")\n",
        "    visited.add(node)\n",
        "    for x in graph[node]:\n",
        "      dfs(visited,graph,x)\n",
        "\n",
        "#Driver code \n",
        "\n",
        "dfs(visited,graph,'A')"
      ],
      "metadata": {
        "colab": {
          "base_uri": "https://localhost:8080/"
        },
        "id": "0yNHCJS1hxf-",
        "outputId": "e156d47a-47eb-48d8-a57d-87b7df61df98"
      },
      "execution_count": null,
      "outputs": [
        {
          "output_type": "stream",
          "name": "stdout",
          "text": [
            "A B D E F C "
          ]
        }
      ]
    },
    {
      "cell_type": "markdown",
      "source": [
        "Factorial using recursion "
      ],
      "metadata": {
        "id": "I9LKCIcUj8u9"
      }
    },
    {
      "cell_type": "code",
      "source": [
        "def factorial(n):\n",
        "  if n==1:\n",
        "    return n\n",
        "\n",
        "  else:\n",
        "    return n*factorial(n-1)\n",
        "\n",
        "num=5\n",
        "\n",
        "if num <0:\n",
        "  print(\"Factorial does not exist for negative numbers\")\n",
        "elif num==0:\n",
        "  print(\"The factorial of 0 is 1\")\n",
        "else:\n",
        "  print(\"The factorial of\", num,\"is \",factorial(num))\n",
        "  "
      ],
      "metadata": {
        "colab": {
          "base_uri": "https://localhost:8080/"
        },
        "id": "4ZXQc-xLkGuH",
        "outputId": "17c53a2f-1997-4402-f503-0dd39d3511e9"
      },
      "execution_count": null,
      "outputs": [
        {
          "output_type": "stream",
          "name": "stdout",
          "text": [
            "The factorial of 5 is  120\n"
          ]
        }
      ]
    },
    {
      "cell_type": "markdown",
      "source": [
        "Fibonacci series using recursion "
      ],
      "metadata": {
        "id": "d5uJTBcIoMI_"
      }
    },
    {
      "cell_type": "code",
      "source": [
        "#Program to display the fibonacci series \n",
        "\n",
        "def fibo(n):\n",
        "  if n<=1:\n",
        "    return n\n",
        "  else:\n",
        "    return (fibo(n-1)+fibo(n-2))\n",
        "  \n",
        "nterms=7\n",
        "\n",
        "if nterms<=0:\n",
        "  print(\"Enter a positive integer\")\n",
        "\n",
        "else:\n",
        "  print(\"Fibonacci series :\")\n",
        "  for i in range(nterms):\n",
        "    print(fibo(i), end=\" \")\n"
      ],
      "metadata": {
        "colab": {
          "base_uri": "https://localhost:8080/"
        },
        "id": "TujMvcRtoUjv",
        "outputId": "5ae07c56-524d-4a83-99db-0abeba41531e"
      },
      "execution_count": null,
      "outputs": [
        {
          "output_type": "stream",
          "name": "stdout",
          "text": [
            "Fibonacci series :\n",
            "0 1 1 2 3 5 8 "
          ]
        }
      ]
    },
    {
      "cell_type": "code",
      "source": [
        "#Program to implement Tower of hanoi using python (recursion )\n",
        "\n",
        "def TOH(n,source,destination,auxiliary):\n",
        "  if n==1:\n",
        "    print(\"Move disk 1 from source\",source,\"to destination\",destination)\n",
        "    return \n",
        "  TOH(n-1,source,auxiliary,destination)\n",
        "  print(\"Move disk\",n,\"from source\",source,\"to destination\",destination)\n",
        "  TOH(n-1,auxiliary,destination,source)\n",
        "\n",
        "#Driver code \n",
        "n=3\n",
        "TOH(n,'A','C','B')\n"
      ],
      "metadata": {
        "colab": {
          "base_uri": "https://localhost:8080/"
        },
        "id": "caR2YO7ps2cg",
        "outputId": "27dc104e-f7b3-4468-e4db-928b00675519"
      },
      "execution_count": null,
      "outputs": [
        {
          "output_type": "stream",
          "name": "stdout",
          "text": [
            "Move disk 1 from source A to destination C\n",
            "Move disk 2 from source A to destination B\n",
            "Move disk 1 from source C to destination B\n",
            "Move disk 3 from source A to destination C\n",
            "Move disk 1 from source B to destination A\n",
            "Move disk 2 from source B to destination C\n",
            "Move disk 1 from source A to destination C\n"
          ]
        }
      ]
    },
    {
      "cell_type": "code",
      "source": [
        "#Program to implement OR gate \n",
        "\n",
        "def OR(A,B):\n",
        "  return A | B\n",
        "\n",
        "print(\"Output of 0 OR 0 is\",OR(0,0))\n",
        "print(\"Output of 0 OR 1 is\",OR(0,1))\n",
        "print(\"Output of 1 OR 0 is\",OR(1,0))\n",
        "print(\"Output of 1 OR 1 is\",OR(1,1))\n"
      ],
      "metadata": {
        "colab": {
          "base_uri": "https://localhost:8080/"
        },
        "id": "35CdDNkjwBZQ",
        "outputId": "9b820248-7cb3-40a5-8f29-dc6229005c80"
      },
      "execution_count": null,
      "outputs": [
        {
          "output_type": "stream",
          "name": "stdout",
          "text": [
            "Output of 0 OR 0 is 0\n",
            "Output of 0 OR 1 is 1\n",
            "Output of 1 OR 0 is 1\n",
            "Output of 1 OR 1 is 1\n"
          ]
        }
      ]
    },
    {
      "cell_type": "code",
      "source": [
        "#Program to implement AND gate \n",
        "\n",
        "def AND(A,B):\n",
        "  return A & B\n",
        "\n",
        "print(\"Output of 0 AND 0 is\",AND(0,0))\n",
        "print(\"Output of 0 AND 1 is\",AND(0,1))\n",
        "print(\"Output of 1 AND 0 is\",AND(1,0))\n",
        "print(\"Output of 1 AND 1 is\",AND(1,1))"
      ],
      "metadata": {
        "colab": {
          "base_uri": "https://localhost:8080/"
        },
        "id": "NZTITqBdyjti",
        "outputId": "f8ab0f61-834f-4866-e1d4-d4ce8cad2088"
      },
      "execution_count": null,
      "outputs": [
        {
          "output_type": "stream",
          "name": "stdout",
          "text": [
            "Output of 0 AND 0 is 0\n",
            "Output of 0 AND 1 is 0\n",
            "Output of 1 AND 0 is 0\n",
            "Output of 1 AND 1 is 1\n"
          ]
        }
      ]
    },
    {
      "cell_type": "code",
      "source": [
        "#Program to implement NOT gate \n",
        "\n",
        "def NOT(A):\n",
        "  return ~A+2\n",
        "\n",
        "print(\"Output of NOT 0 is\",NOT(0))\n",
        "print(\"Output of NOT 1 is\",NOT(1))\n"
      ],
      "metadata": {
        "colab": {
          "base_uri": "https://localhost:8080/"
        },
        "id": "FgEfoSo5y48k",
        "outputId": "16219802-1121-4bc3-84c6-422415c66a38"
      },
      "execution_count": null,
      "outputs": [
        {
          "output_type": "stream",
          "name": "stdout",
          "text": [
            "Output of NOT 0 is 1\n",
            "Output of NOT 1 is 0\n"
          ]
        }
      ]
    },
    {
      "cell_type": "code",
      "source": [
        "# Program to implement NAND gate using python \n",
        "\n",
        "def AND(A,B):\n",
        "  return A&B\n",
        "\n",
        "def NOT(A):\n",
        "  return ~A+2\n",
        "\n",
        "def NAND(A,B):\n",
        "  return NOT(AND(A,B))\n",
        "\n",
        "print(\"Output of 0 NAND 0 is\",NAND(0,0))\n",
        "print(\"Output of 0 NAND 1 is\",NAND(0,1))\n",
        "print(\"Output of 1 NAND 0 is\",NAND(1,0))\n",
        "print(\"Output of 1 NAND 1 is\",NAND(1,1))"
      ],
      "metadata": {
        "colab": {
          "base_uri": "https://localhost:8080/"
        },
        "id": "PBDiFzn-zsGj",
        "outputId": "97bb8c8b-c849-4413-8e5e-bd6433f30f10"
      },
      "execution_count": null,
      "outputs": [
        {
          "output_type": "stream",
          "name": "stdout",
          "text": [
            "Output of 0 NAND 0 is 1\n",
            "Output of 0 NAND 1 is 1\n",
            "Output of 1 NAND 0 is 1\n",
            "Output of 1 NAND 1 is 0\n"
          ]
        }
      ]
    },
    {
      "cell_type": "code",
      "source": [
        ""
      ],
      "metadata": {
        "id": "wWt-RTC7khXh"
      },
      "execution_count": null,
      "outputs": []
    },
    {
      "cell_type": "code",
      "source": [
        "# Program to implement NOR using python \n",
        "\n",
        "def OR(A,B):\n",
        "  return A | B\n",
        "\n",
        "def NOT(A):\n",
        "  return ~A+2\n",
        "\n",
        "def NOR(A,B):\n",
        "  return NOT(OR(A,B))\n",
        "\n",
        "print(\"Output of 0 NOR 0 is\",NOR(0,0))\n",
        "print(\"Output of 0 NOR 1 is\",NOR(0,1))\n",
        "print(\"Output of 1 NOR 0 is\",NOR(1,0))\n",
        "print(\"Output of 1 NOR 1 is\",NOR(1,1))"
      ],
      "metadata": {
        "colab": {
          "base_uri": "https://localhost:8080/"
        },
        "id": "DiHFv3oE0-na",
        "outputId": "6bccb04f-0c1b-4d28-e24b-05b9cb440b3c"
      },
      "execution_count": null,
      "outputs": [
        {
          "output_type": "stream",
          "name": "stdout",
          "text": [
            "Output of 0 NOR 0 is 1\n",
            "Output of 0 NOR 1 is 0\n",
            "Output of 1 NOR 0 is 0\n",
            "Output of 1 NOR 1 is 0\n"
          ]
        }
      ]
    },
    {
      "cell_type": "code",
      "source": [
        "# Function to simulate XOR Gate\n",
        "def XOR(A, B):\n",
        "    return A ^ B\n",
        " \n",
        "print(\"Output of 0 XOR 0 is\", XOR(0, 0))\n",
        "print(\"Output of 0 XOR 1 is\", XOR(0, 1))\n",
        "print(\"Output of 1 XOR 0 is\", XOR(1, 0))\n",
        "print(\"Output of 1 XOR 1 is\", XOR(1, 1))    \n"
      ],
      "metadata": {
        "colab": {
          "base_uri": "https://localhost:8080/"
        },
        "id": "zre00rU3kjre",
        "outputId": "0577bcac-d8c8-4137-ffea-3f47d9e3d460"
      },
      "execution_count": null,
      "outputs": [
        {
          "output_type": "stream",
          "name": "stdout",
          "text": [
            "Output of 0 XOR 0 is 0\n",
            "Output of 0 XOR 1 is 1\n",
            "Output of 1 XOR 0 is 1\n",
            "Output of 1 XOR 1 is 0\n"
          ]
        }
      ]
    }
  ]
}