{
  "nbformat": 4,
  "nbformat_minor": 0,
  "metadata": {
    "colab": {
      "name": "Untitled0.ipynb",
      "provenance": [],
      "authorship_tag": "ABX9TyMLSm7rBHZiTtsYDdv2Vj7u",
      "include_colab_link": true
    },
    "kernelspec": {
      "name": "python3",
      "display_name": "Python 3"
    },
    "language_info": {
      "name": "python"
    }
  },
  "cells": [
    {
      "cell_type": "markdown",
      "metadata": {
        "id": "view-in-github",
        "colab_type": "text"
      },
      "source": [
        "<a href=\"https://colab.research.google.com/github/arjungautam1/PythonEssentials/blob/master/AIPractical.ipynb\" target=\"_parent\"><img src=\"https://colab.research.google.com/assets/colab-badge.svg\" alt=\"Open In Colab\"/></a>"
      ]
    },
    {
      "cell_type": "code",
      "execution_count": 11,
      "metadata": {
        "id": "askDwMfzb3Z5",
        "colab": {
          "base_uri": "https://localhost:8080/"
        },
        "outputId": "bc500ce7-c0c1-4d9b-fb32-4c84533cf8a4"
      },
      "outputs": [
        {
          "output_type": "stream",
          "name": "stdout",
          "text": [
            "A B C D E F "
          ]
        }
      ],
      "source": [
        "#FIFO (First In First Out)\n",
        "#graph is data dictionary (key : value ) pair \n",
        "\n",
        "#step 1 \n",
        "graph ={\n",
        "    'A':['B','C'],\n",
        "    'B':['D','E'],\n",
        "    'C':['F'],\n",
        "    'D':[],\n",
        "    'E':['F'],\n",
        "    'F':[]\n",
        "}\n",
        "\n",
        "# keeps the track of visited nodes\n",
        "visited=[] \n",
        "\n",
        "# Initialize queue \n",
        "queue=[]\n",
        "\n",
        "#Step 2 \n",
        "\n",
        "def bfs(visited,graph,node):\n",
        "  visited.append(node)\n",
        "  queue.append(node)\n",
        "\n",
        "  while queue:\n",
        "    s=queue.pop(0)\n",
        "    print(s, end=\" \")\n",
        "\n",
        "    for x in graph[s]:\n",
        "      if x not in visited:\n",
        "        visited.append(x)\n",
        "        queue.append(x)\n",
        "\n",
        "#Drive method \n",
        "\n",
        "bfs(visited,graph,'A')\n"
      ]
    },
    {
      "cell_type": "code",
      "source": [
        "# Recursive Python function to solve the tower of hanoi\n",
        "\n",
        "def TowerOfHanoi(n , source, destination, auxiliary):\n",
        "\tif n==1:\n",
        "\t\tprint (\"Move disk 1 from source\",source,\"to destination\",destination)\n",
        "\t\treturn\n",
        "\tTowerOfHanoi(n-1, source, auxiliary, destination)\n",
        "\tprint (\"Move disk\",n,\"from source\",source,\"to destination\",destination)\n",
        "\tTowerOfHanoi(n-1, auxiliary, destination, source)\n",
        "\t\t\n",
        "# Driver code\n",
        "n = 3\n",
        "TowerOfHanoi(n,'A','C','B')\n",
        "# A, C, B are the name of rods\n",
        "\n"
      ],
      "metadata": {
        "colab": {
          "base_uri": "https://localhost:8080/"
        },
        "id": "4U4517Ru4-3T",
        "outputId": "03c2e3dd-9ca8-4938-faad-11a8cf7d88a4"
      },
      "execution_count": 28,
      "outputs": [
        {
          "output_type": "stream",
          "name": "stdout",
          "text": [
            "Move disk 1 from source A to destination C\n",
            "Move disk 2 from source A to destination B\n",
            "Move disk 1 from source C to destination B\n",
            "Move disk 3 from source A to destination C\n",
            "Move disk 1 from source B to destination A\n",
            "Move disk 2 from source B to destination C\n",
            "Move disk 1 from source A to destination C\n"
          ]
        }
      ]
    },
    {
      "cell_type": "code",
      "source": [
        "#Python program to find the factorial of number provided by ther user \n",
        "\n",
        "def factorial(x):\n",
        "\n",
        "  if x==1:\n",
        "    return 1\n",
        "  else:\n",
        "    return (x*factorial(x-1))\n",
        "\n",
        "num=5\n",
        "\n",
        "result=factorial(5)\n",
        "print(\"The factorial of number is \",result)"
      ],
      "metadata": {
        "colab": {
          "base_uri": "https://localhost:8080/"
        },
        "id": "zei_-p9G84td",
        "outputId": "924a15fb-e13d-4cc1-b08b-4c5c09dde7dd"
      },
      "execution_count": 30,
      "outputs": [
        {
          "output_type": "stream",
          "name": "stdout",
          "text": [
            "The factorial of number is  120\n"
          ]
        }
      ]
    },
    {
      "cell_type": "code",
      "source": [
        "#Program to display the fibonacci sequence up to the n-th term \n",
        "\n",
        "def fibo(n):\n",
        "  if n<=1:\n",
        "    return n\n",
        "  else:\n",
        "    return (fibo(n-1)+fibo(n-2))\n",
        "\n",
        "nterms=5\n",
        "\n",
        "#check if the number is valid or not \n",
        "\n",
        "if(nterms<=0):\n",
        "  print(\"Please enter a positive number\")\n",
        "else:\n",
        "  print(\"Fibonacci sequece is :\")\n",
        "  for i in range(nterms):\n",
        "    print(fibo(i))\n"
      ],
      "metadata": {
        "colab": {
          "base_uri": "https://localhost:8080/"
        },
        "id": "N6XdKfN59ud1",
        "outputId": "70885b79-3d7f-4d23-e107-829f6e8a3a79"
      },
      "execution_count": 31,
      "outputs": [
        {
          "output_type": "stream",
          "name": "stdout",
          "text": [
            "Fibonacci sequece is :\n",
            "0\n",
            "1\n",
            "1\n",
            "2\n",
            "3\n"
          ]
        }
      ]
    }
  ]
}